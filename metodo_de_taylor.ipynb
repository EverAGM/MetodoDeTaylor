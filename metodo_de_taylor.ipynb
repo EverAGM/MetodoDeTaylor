{
 "cells": [
  {
   "cell_type": "code",
   "execution_count": null,
   "id": "c0c9cf17",
   "metadata": {},
   "outputs": [],
   "source": [
    "import sympy as sp\n",
    "import matplotlib.pyplot as plt"
   ]
  },
  {
   "cell_type": "code",
   "execution_count": null,
   "id": "1adf0c48",
   "metadata": {},
   "outputs": [],
   "source": [
    "class TaylorMethod:\n",
    "    \n",
    "    def calc_derivatives(self, function, x, y, order):\n",
    "        \n",
    "        derivatives = [function]\n",
    "        \n",
    "        for _ in range(order - 1 ):\n",
    "            derivative_function = sp.diff(derivatives[-1], x) + sp.diff(derivatives[-1], y) * function\n",
    "            derivatives.append(derivative_function)\n",
    "        \n",
    "        return derivatives\n",
    "    \n",
    "    def taylor_method(self, function_expresion, x0, y0, h, steps, order):\n",
    "        \n",
    "        x, y = sp.symbols('x y')\n",
    "        function = function_expresion\n",
    "        \n",
    "        derivatives = self.calc_derivatives(function, x, y, order)\n",
    "        \n",
    "        lambda_derivatives = [sp.lambdify((x, y), d) for d in derivatives]\n",
    "        \n",
    "        xs = [x0]\n",
    "        ys = [y0]\n",
    "        \n",
    "        for _ in range(steps):\n",
    "            taylor_sum = 0\n",
    "            for n in range(order):\n",
    "                taylor_sum += (h**(n+1) / sp.factorial(n+1)) * lambda_derivatives[n](x0,y0)\n",
    "            \n",
    "            x1 = x0 + h\n",
    "            y1 = y0 + taylor_sum\n",
    "            \n",
    "            xs.append(x1)\n",
    "            ys.append(y1)\n",
    "            \n",
    "            x0, y0 = x1, y1\n",
    "            \n",
    "        return xs, ys\n",
    "\n",
    "    def graficar(self, xs, ys, titulo=\"Método de Taylor\", color='blue'):\n",
    "        plt.plot(xs, ys, marker='o', linestyle='-', color=color)\n",
    "        plt.title(titulo)\n",
    "        plt.xlabel(\"x\")\n",
    "        plt.ylabel(\"y\")\n",
    "        plt.grid(True)\n",
    "        plt.show()"
   ]
  },
  {
   "cell_type": "code",
   "execution_count": null,
   "id": "d0752b2c",
   "metadata": {},
   "outputs": [],
   "source": [
    "if __name__ == \"__main__\":\n",
    "    \n",
    "    metodo = TaylorMethod()\n",
    "    \n",
    "    x, y = sp.symbols('x y')\n",
    "    \n",
    "    f_expr = x + y\n",
    "    \n",
    "    x0 = 0\n",
    "    y0 = 1\n",
    "    h = 0.1\n",
    "    steps = 3\n",
    "    order = 3\n",
    "    \n",
    "    x_values, y_values = metodo.taylor_method(f_expr, x0, y0, h, steps, order)\n",
    "    \n",
    "    for i in range(len(x_values)):\n",
    "        print(f\"x = {x_values[i]:.1f}, y = {y_values[i]:.5f}\")\n",
    "\n",
    "    metodo.graficar(x_values, y_values)"
   ]
  }
 ],
 "metadata": {
  "kernelspec": {
   "display_name": "Python 3 (ipykernel)",
   "language": "python",
   "name": "python3"
  },
  "language_info": {
   "codemirror_mode": {
    "name": "ipython",
    "version": 3
   },
   "file_extension": ".py",
   "mimetype": "text/x-python",
   "name": "python",
   "nbconvert_exporter": "python",
   "pygments_lexer": "ipython3",
   "version": "3.13.3"
  }
 },
 "nbformat": 4,
 "nbformat_minor": 5
}
